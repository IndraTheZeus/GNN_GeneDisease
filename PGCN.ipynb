{
 "cells": [
  {
   "cell_type": "code",
   "execution_count": 3,
   "id": "1ca77e0a",
   "metadata": {},
   "outputs": [
    {
     "name": "stdout",
     "output_type": "stream",
     "text": [
      "\r\n",
      "     active environment : GNNGeneDisease\r\n",
      "    active env location : /home/indradutta/miniconda3/envs/GNNGeneDisease\r\n",
      "            shell level : 2\r\n",
      "       user config file : /home/indradutta/.condarc\r\n",
      " populated config files : \r\n",
      "          conda version : 23.9.0\r\n",
      "    conda-build version : not installed\r\n",
      "         python version : 3.11.4.final.0\r\n",
      "       virtual packages : __archspec=1=x86_64\r\n",
      "                          __cuda=12.0=0\r\n",
      "                          __glibc=2.35=0\r\n",
      "                          __linux=5.19.0=0\r\n",
      "                          __unix=0=0\r\n",
      "       base environment : /home/indradutta/miniconda3  (writable)\r\n",
      "      conda av data dir : /home/indradutta/miniconda3/etc/conda\r\n",
      "  conda av metadata url : None\r\n",
      "           channel URLs : https://repo.anaconda.com/pkgs/main/linux-64\r\n",
      "                          https://repo.anaconda.com/pkgs/main/noarch\r\n",
      "                          https://repo.anaconda.com/pkgs/r/linux-64\r\n",
      "                          https://repo.anaconda.com/pkgs/r/noarch\r\n",
      "          package cache : /home/indradutta/miniconda3/pkgs\r\n",
      "                          /home/indradutta/.conda/pkgs\r\n",
      "       envs directories : /home/indradutta/miniconda3/envs\r\n",
      "                          /home/indradutta/.conda/envs\r\n",
      "               platform : linux-64\r\n",
      "             user-agent : conda/23.9.0 requests/2.31.0 CPython/3.11.4 Linux/5.19.0-50-generic ubuntu/22.04.2 glibc/2.35\r\n",
      "                UID:GID : 1119:1128\r\n",
      "             netrc file : None\r\n",
      "           offline mode : False\r\n",
      "\r\n",
      "\r\n"
     ]
    }
   ],
   "source": [
    "!conda info\n"
   ]
  },
  {
   "cell_type": "code",
   "execution_count": 9,
   "id": "dc83da01",
   "metadata": {},
   "outputs": [
    {
     "name": "stdout",
     "output_type": "stream",
     "text": [
      "/home/indradutta/MSc_Lab_1/GNN_GeneDisease/Disease_gene_prioritization_GCN\n"
     ]
    }
   ],
   "source": [
    "cd GNN_GeneDisease/Disease_gene_prioritization_GCN/\n"
   ]
  },
  {
   "cell_type": "code",
   "execution_count": 15,
   "id": "890bb3c7",
   "metadata": {},
   "outputs": [
    {
     "name": "stdout",
     "output_type": "stream",
     "text": [
      "2023-10-14 21:41:19.059679: E tensorflow/compiler/xla/stream_executor/cuda/cuda_dnn.cc:9342] Unable to register cuDNN factory: Attempting to register factory for plugin cuDNN when one has already been registered\n",
      "2023-10-14 21:41:19.059726: E tensorflow/compiler/xla/stream_executor/cuda/cuda_fft.cc:609] Unable to register cuFFT factory: Attempting to register factory for plugin cuFFT when one has already been registered\n",
      "2023-10-14 21:41:19.059763: E tensorflow/compiler/xla/stream_executor/cuda/cuda_blas.cc:1518] Unable to register cuBLAS factory: Attempting to register factory for plugin cuBLAS when one has already been registered\n",
      ">>>>>> Before Main\n",
      "Edge types: 6\n",
      ">>>>> Inside Main\n",
      "Defining placeholders\n",
      "Create minibatch iterator\n",
      "/home/indradutta/MSc_Lab_1/GNN_GeneDisease/Disease_gene_prioritization_GCN/decagon/deep/minibatch.py:61: RuntimeWarning: divide by zero encountered in power\n",
      "  rowdegree_mat_inv = sp.diags(np.nan_to_num(np.power(rowsum, -0.5)).flatten())\n",
      "/home/indradutta/MSc_Lab_1/GNN_GeneDisease/Disease_gene_prioritization_GCN/decagon/deep/minibatch.py:62: RuntimeWarning: divide by zero encountered in power\n",
      "  coldegree_mat_inv = sp.diags(np.nan_to_num(np.power(colsum, -0.5)).flatten())\n",
      "Create model\n",
      "WARNING:tensorflow:From /home/indradutta/miniconda3/envs/GNNGeneDisease/lib/python3.10/site-packages/tensorflow/python/util/dispatch.py:1260: calling l2_normalize (from tensorflow.python.ops.nn_impl) with dim is deprecated and will be removed in a future version.\n",
      "Instructions for updating:\n",
      "dim is deprecated, use axis instead\n",
      "Create optimizer\n",
      "WARNING:tensorflow:tf.op_scope(values, name, default_name) is deprecated, use tf.name_scope(name, default_name, values)\n",
      "WARNING:tensorflow:tf.op_scope(values, name, default_name) is deprecated, use tf.name_scope(name, default_name, values)\n",
      "Initialize session\n",
      "2023-10-14 21:41:41.744522: I tensorflow/compiler/xla/stream_executor/cuda/cuda_gpu_executor.cc:894] successful NUMA node read from SysFS had negative value (-1), but there must be at least one NUMA node, so returning NUMA node zero. See more at https://github.com/torvalds/linux/blob/v6.0/Documentation/ABI/testing/sysfs-bus-pci#L344-L355\n",
      "2023-10-14 21:41:42.085405: I tensorflow/compiler/xla/stream_executor/cuda/cuda_gpu_executor.cc:894] successful NUMA node read from SysFS had negative value (-1), but there must be at least one NUMA node, so returning NUMA node zero. See more at https://github.com/torvalds/linux/blob/v6.0/Documentation/ABI/testing/sysfs-bus-pci#L344-L355\n",
      "2023-10-14 21:41:42.085624: I tensorflow/compiler/xla/stream_executor/cuda/cuda_gpu_executor.cc:894] successful NUMA node read from SysFS had negative value (-1), but there must be at least one NUMA node, so returning NUMA node zero. See more at https://github.com/torvalds/linux/blob/v6.0/Documentation/ABI/testing/sysfs-bus-pci#L344-L355\n",
      "2023-10-14 21:41:42.086539: I tensorflow/compiler/xla/stream_executor/cuda/cuda_gpu_executor.cc:894] successful NUMA node read from SysFS had negative value (-1), but there must be at least one NUMA node, so returning NUMA node zero. See more at https://github.com/torvalds/linux/blob/v6.0/Documentation/ABI/testing/sysfs-bus-pci#L344-L355\n",
      "2023-10-14 21:41:42.086692: I tensorflow/compiler/xla/stream_executor/cuda/cuda_gpu_executor.cc:894] successful NUMA node read from SysFS had negative value (-1), but there must be at least one NUMA node, so returning NUMA node zero. See more at https://github.com/torvalds/linux/blob/v6.0/Documentation/ABI/testing/sysfs-bus-pci#L344-L355\n",
      "2023-10-14 21:41:42.086846: I tensorflow/compiler/xla/stream_executor/cuda/cuda_gpu_executor.cc:894] successful NUMA node read from SysFS had negative value (-1), but there must be at least one NUMA node, so returning NUMA node zero. See more at https://github.com/torvalds/linux/blob/v6.0/Documentation/ABI/testing/sysfs-bus-pci#L344-L355\n",
      "2023-10-14 21:41:43.801234: I tensorflow/compiler/xla/stream_executor/cuda/cuda_gpu_executor.cc:894] successful NUMA node read from SysFS had negative value (-1), but there must be at least one NUMA node, so returning NUMA node zero. See more at https://github.com/torvalds/linux/blob/v6.0/Documentation/ABI/testing/sysfs-bus-pci#L344-L355\n",
      "2023-10-14 21:41:43.801422: I tensorflow/compiler/xla/stream_executor/cuda/cuda_gpu_executor.cc:894] successful NUMA node read from SysFS had negative value (-1), but there must be at least one NUMA node, so returning NUMA node zero. See more at https://github.com/torvalds/linux/blob/v6.0/Documentation/ABI/testing/sysfs-bus-pci#L344-L355\n",
      "2023-10-14 21:41:43.801576: I tensorflow/compiler/xla/stream_executor/cuda/cuda_gpu_executor.cc:894] successful NUMA node read from SysFS had negative value (-1), but there must be at least one NUMA node, so returning NUMA node zero. See more at https://github.com/torvalds/linux/blob/v6.0/Documentation/ABI/testing/sysfs-bus-pci#L344-L355\n",
      "2023-10-14 21:41:43.801700: I tensorflow/core/common_runtime/gpu/gpu_device.cc:1886] Created device /job:localhost/replica:0/task:0/device:GPU:0 with 11387 MB memory:  -> device: 0, name: NVIDIA TITAN Xp, pci bus id: 0000:01:00.0, compute capability: 6.1\n",
      "2023-10-14 21:41:43.835206: I tensorflow/compiler/mlir/mlir_graph_optimization_pass.cc:382] MLIR V1 optimization pass is not enabled\n",
      "2023-10-14 21:41:46.058749: I tensorflow/tsl/platform/default/subprocess.cc:304] Start cannot spawn child process: No such file or directory\n",
      "Edge type= [01, 00, 00]\n",
      "Edge type: 0003 Test AUROC score 0.50000\n",
      "Edge type: 0003 Test AUPRC score 0.50000\n",
      "Edge type: 0003 Test AP@k score 1.00000\n",
      "Edge type: 0003 Test BEDROC score 0.02564\n",
      "\n",
      "Saving result...\n"
     ]
    }
   ],
   "source": [
    "!python3 main_prioritization.py"
   ]
  }
 ],
 "metadata": {
  "kernelspec": {
   "display_name": "Python 3 (ipykernel)",
   "language": "python",
   "name": "python3"
  },
  "language_info": {
   "codemirror_mode": {
    "name": "ipython",
    "version": 3
   },
   "file_extension": ".py",
   "mimetype": "text/x-python",
   "name": "python",
   "nbconvert_exporter": "python",
   "pygments_lexer": "ipython3",
   "version": "3.10.13"
  }
 },
 "nbformat": 4,
 "nbformat_minor": 5
}
